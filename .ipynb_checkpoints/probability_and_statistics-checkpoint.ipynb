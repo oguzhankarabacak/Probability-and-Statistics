{
 "cells": [
  {
   "cell_type": "markdown",
   "metadata": {},
   "source": [
    "# Probability and Statistics Homework 3"
   ]
  },
  {
   "cell_type": "code",
   "execution_count": 20,
   "metadata": {},
   "outputs": [
    {
     "name": "stdout",
     "output_type": "stream",
     "text": [
      "3.141592653589793\n"
     ]
    }
   ],
   "source": [
    "import math\n",
    "print (math.pi)"
   ]
  },
  {
   "cell_type": "markdown",
   "metadata": {},
   "source": [
    "# a)"
   ]
  },
  {
   "cell_type": "code",
   "execution_count": 21,
   "metadata": {},
   "outputs": [],
   "source": [
    "mean=111.33\n",
    "standart=86.647\n",
    "\n",
    "\n"
   ]
  },
  {
   "cell_type": "markdown",
   "metadata": {},
   "source": [
    "# b)"
   ]
  },
  {
   "cell_type": "code",
   "execution_count": 22,
   "metadata": {},
   "outputs": [],
   "source": [
    "def p_func(x):\n",
    "    first=1/(pow((2*math.pi),(1/2)))\n",
    "    second=math.exp((-pow((mean-x),2))/(2*pow(standart,2)))\n",
    "    #print(second)\n",
    "    return first*second"
   ]
  },
  {
   "cell_type": "code",
   "execution_count": 23,
   "metadata": {},
   "outputs": [],
   "source": [
    "arr=[3,9,11,21,38,43,65,108,143,162,171,200,213,222,261]\n",
    "#arr=[102,129,452,780,2765,3209,4000,4276,5278,5964,6337,7100,8317,8739,8828]\n",
    "func_arr=[]\n",
    "for i in arr:\n",
    "    func_arr.append(p_func(i))"
   ]
  },
  {
   "cell_type": "code",
   "execution_count": 24,
   "metadata": {},
   "outputs": [
    {
     "data": {
      "text/plain": [
       "[0.18259309558505046,\n",
       " 0.19862878966837888,\n",
       " 0.20406351933977165,\n",
       " 0.23169169218751043,\n",
       " 0.27885686224933204,\n",
       " 0.29232616016456653,\n",
       " 0.34580174931430696,\n",
       " 0.39864776967142307,\n",
       " 0.3731645297575644,\n",
       " 0.336241311972525,\n",
       " 0.3147230404157506,\n",
       " 0.23632230787532868,\n",
       " 0.20041786163694905,\n",
       " 0.1764665264738123,\n",
       " 0.08974224914782761]"
      ]
     },
     "execution_count": 24,
     "metadata": {},
     "output_type": "execute_result"
    }
   ],
   "source": [
    "func_arr"
   ]
  },
  {
   "cell_type": "markdown",
   "metadata": {},
   "source": [
    "# c)"
   ]
  },
  {
   "cell_type": "code",
   "execution_count": 25,
   "metadata": {},
   "outputs": [],
   "source": [
    "import numpy as np\n",
    "import matplotlib.pyplot as plt\n",
    "from pylab import rcParams"
   ]
  },
  {
   "cell_type": "code",
   "execution_count": 26,
   "metadata": {},
   "outputs": [],
   "source": [
    "def show_plot(y_2_order,h_arr):\n",
    "    rcParams['figure.figsize'] = 16, 9\n",
    "    \n",
    "    fig,ax = plt.subplots()  # Create a figure and an axes.\n",
    "    ax.plot(h_arr,y_2_order, label='Φ-f(Φ)',linestyle=\":\",color=\"b\") \n",
    "    \n",
    "    ax.grid()\n",
    "    ax.scatter(h_arr,y_2_order, color='b',marker='.',s=300)\n",
    "   \n",
    "    ax.legend()\n",
    "    ax.set_xlabel('Φ')\n",
    "    ax.set_ylabel(\"f(Φ)\")\n",
    "    plt.show()"
   ]
  },
  {
   "cell_type": "code",
   "execution_count": 27,
   "metadata": {},
   "outputs": [
    {
     "data": {
      "image/png": "[encoded data removed]",
      "text/plain": [
       "<Figure size 1152x648 with 1 Axes>"
      ]
     },
     "metadata": {
      "needs_background": "light"
     },
     "output_type": "display_data"
    }
   ],
   "source": [
    "show_plot(func_arr,arr)"
   ]
  },
  {
   "cell_type": "markdown",
   "metadata": {},
   "source": [
    "# d)"
   ]
  },
  {
   "cell_type": "code",
   "execution_count": 31,
   "metadata": {},
   "outputs": [],
   "source": [
    "mean_f=0.2573124977"
   ]
  },
  {
   "cell_type": "code",
   "execution_count": 32,
   "metadata": {},
   "outputs": [],
   "source": [
    "# mean_f=0;\n",
    "# for i in range(0,15):\n",
    "#     mean_f+=func_arr[i]*arr[i]"
   ]
  },
  {
   "cell_type": "code",
   "execution_count": 33,
   "metadata": {},
   "outputs": [
    {
     "data": {
      "text/plain": [
       "0.2573124977"
      ]
     },
     "execution_count": 33,
     "metadata": {},
     "output_type": "execute_result"
    }
   ],
   "source": [
    "mean_f"
   ]
  },
  {
   "cell_type": "code",
   "execution_count": 48,
   "metadata": {},
   "outputs": [],
   "source": [
    "standard_f=0.08296812134"
   ]
  },
  {
   "cell_type": "code",
   "execution_count": 49,
   "metadata": {},
   "outputs": [],
   "source": [
    "# var=0\n",
    "# for i in range(0,15):\n",
    "#     var += pow((arr[i]-mean_f),2)*func_arr[i]"
   ]
  },
  {
   "cell_type": "code",
   "execution_count": 50,
   "metadata": {},
   "outputs": [],
   "source": [
    "# standard_f=pow(var,0.5)\n",
    "# standard_f"
   ]
  },
  {
   "cell_type": "code",
   "execution_count": 51,
   "metadata": {},
   "outputs": [],
   "source": [
    "def calculate_z(x,mean,standart_f):\n",
    "    z=(x-mean)/standart_f\n",
    "    return z"
   ]
  },
  {
   "cell_type": "code",
   "execution_count": 53,
   "metadata": {},
   "outputs": [
    {
     "name": "stdout",
     "output_type": "stream",
     "text": [
      "0.18259309558505046 0.2573124976973398 0.08296812134\n",
      "0.19862878966837888 0.2573124976973398 0.08296812134\n",
      "0.20406351933977165 0.2573124976973398 0.08296812134\n",
      "0.23169169218751043 0.2573124976973398 0.08296812134\n",
      "0.27885686224933204 0.2573124976973398 0.08296812134\n",
      "0.29232616016456653 0.2573124976973398 0.08296812134\n",
      "0.34580174931430696 0.2573124976973398 0.08296812134\n",
      "0.39864776967142307 0.2573124976973398 0.08296812134\n",
      "0.3731645297575644 0.2573124976973398 0.08296812134\n",
      "0.336241311972525 0.2573124976973398 0.08296812134\n",
      "0.3147230404157506 0.2573124976973398 0.08296812134\n",
      "0.23632230787532868 0.2573124976973398 0.08296812134\n",
      "0.20041786163694905 0.2573124976973398 0.08296812134\n",
      "0.1764665264738123 0.2573124976973398 0.08296812134\n",
      "0.08974224914782761 0.2573124976973398 0.08296812134\n"
     ]
    }
   ],
   "source": [
    "z_arr=[]\n",
    "for i in func_arr:\n",
    "    z_arr.append(calculate_z(i,mean_f,standard_f))\n",
    "    print(i,mean_f,standard_f)"
   ]
  },
  {
   "cell_type": "code",
   "execution_count": 54,
   "metadata": {},
   "outputs": [
    {
     "name": "stdout",
     "output_type": "stream",
     "text": [
      "-0.90\n",
      "-0.71\n",
      "-0.64\n",
      "-0.31\n",
      "0.26\n",
      "0.42\n",
      "1.07\n",
      "1.70\n",
      "1.40\n",
      "0.95\n",
      "0.69\n",
      "-0.25\n",
      "-0.69\n",
      "-0.97\n",
      "-2.02\n"
     ]
    }
   ],
   "source": [
    "for i in z_arr:\n",
    "    print(\"{:.2f}\".format(i))"
   ]
  },
  {
   "cell_type": "markdown",
   "metadata": {},
   "source": [
    "# e)"
   ]
  },
  {
   "cell_type": "code",
   "execution_count": 55,
   "metadata": {},
   "outputs": [],
   "source": [
    "z_table_value=[0.1922,0.2483,0.2676,0.3821,0.5987,0.6591,0.8485,0.9505,0.9115,0.8212,0.7486,0.4052,0.2546,0.1736,0.0256]\n"
   ]
  },
  {
   "cell_type": "markdown",
   "metadata": {},
   "source": [
    "# f-g)"
   ]
  },
  {
   "cell_type": "code",
   "execution_count": 56,
   "metadata": {},
   "outputs": [],
   "source": [
    "def show_plot2(y_set,x_set):\n",
    "    rcParams['figure.figsize'] = 16, 9\n",
    "    \n",
    "    fig,ax = plt.subplots()  # Create a figure and an axes.\n",
    "    ax.plot(x_set,y_set, label='f(Φ)-probability',linestyle=\":\",color=\"b\") \n",
    "    \n",
    "    ax.grid()\n",
    "    ax.scatter(x_set,y_set, color='b',marker='.',s=300)\n",
    "    plt.yticks(np.arange(0, 1, 0.05))\n",
    "    plt.xticks(np.arange(0,0.44,0.02))\n",
    "    ax.legend()\n",
    "    ax.set_xlabel('f(Φ)')\n",
    "    ax.set_ylabel(\"probability\")\n",
    "    plt.show()"
   ]
  },
  {
   "cell_type": "code",
   "execution_count": 57,
   "metadata": {
    "scrolled": false
   },
   "outputs": [
    {
     "data": {
      "image/png": "[encoded data removed]",
      "text/plain": [
       "<Figure size 1152x648 with 1 Axes>"
      ]
     },
     "metadata": {
      "needs_background": "light"
     },
     "output_type": "display_data"
    }
   ],
   "source": [
    "show_plot2(z_table_value,func_arr)"
   ]
  },
  {
   "cell_type": "markdown",
   "metadata": {},
   "source": [
    "# h)"
   ]
  },
  {
   "cell_type": "code",
   "execution_count": 58,
   "metadata": {},
   "outputs": [],
   "source": [
    "mean_f=0.2573124976973398\n",
    "total=0\n",
    "for i in range(0,15):\n",
    "    a=pow(func_arr[i]-mean_f,3)\n",
    "    total += a"
   ]
  },
  {
   "cell_type": "code",
   "execution_count": 59,
   "metadata": {},
   "outputs": [
    {
     "data": {
      "text/plain": [
       "-0.0004092690958342176"
      ]
     },
     "execution_count": 59,
     "metadata": {},
     "output_type": "execute_result"
    }
   ],
   "source": [
    "total"
   ]
  },
  {
   "cell_type": "code",
   "execution_count": 60,
   "metadata": {},
   "outputs": [],
   "source": [
    "skewness_coefficient=total/(pow(15,3)*pow(standard_f,3))"
   ]
  },
  {
   "cell_type": "code",
   "execution_count": 61,
   "metadata": {},
   "outputs": [
    {
     "data": {
      "text/plain": [
       "-0.0002123251334171509"
      ]
     },
     "execution_count": 61,
     "metadata": {},
     "output_type": "execute_result"
    }
   ],
   "source": [
    "skewness_coefficient"
   ]
  },
  {
   "cell_type": "code",
   "execution_count": null,
   "metadata": {},
   "outputs": [],
   "source": []
  }
 ],
 "metadata": {
  "kernelspec": {
   "display_name": "Python 3",
   "language": "python",
   "name": "python3"
  },
  "language_info": {
   "codemirror_mode": {
    "name": "ipython",
    "version": 3
   },
   "file_extension": ".py",
   "mimetype": "text/x-python",
   "name": "python",
   "nbconvert_exporter": "python",
   "pygments_lexer": "ipython3",
   "version": "3.8.5"
  }
 },
 "nbformat": 4,
 "nbformat_minor": 4
}
